{
  "nbformat": 4,
  "nbformat_minor": 0,
  "metadata": {
    "colab": {
      "provenance": []
    },
    "kernelspec": {
      "name": "python3",
      "display_name": "Python 3"
    },
    "language_info": {
      "name": "python"
    }
  },
  "cells": [
    {
      "cell_type": "code",
      "execution_count": 1,
      "metadata": {
        "id": "RLhkNDN-FlcK"
      },
      "outputs": [],
      "source": [
        "import re\n",
        "\n",
        "TOKEN_RE = [\n",
        "    ('NUMBER', r'\\d+'),\n",
        "    ('ID', r'[a-zA-Z_][a-zA-Z0-9_]*'),\n",
        "    ('PLUS', r'\\+'),\n",
        "    ('MINUS', r'-'),\n",
        "    ('TIMES', r'\\*'),\n",
        "    ('DIVIDE', r'/'),\n",
        "    ('LPAREN', r'\\('),\n",
        "    ('RPAREN', r'\\)'),\n",
        "    ('TRUE', r'true'),\n",
        "    ('FALSE', r'false'),\n",
        "    ('SKIP', r'[ \\t\\n]+'),\n",
        "    ('MISMATCH', r'.')\n",
        "]\n",
        "\n",
        "def tokenize(code):\n",
        "    tokens = []\n",
        "    while code:\n",
        "        match = None\n",
        "        for token_type, token_regex in TOKEN_RE:\n",
        "            regex = re.compile(token_regex)\n",
        "            match = regex.match(code)\n",
        "            if match:\n",
        "                if token_type != 'SKIP':\n",
        "                    tokens.append((token_type, match.group(0)))\n",
        "                code = code[match.end(0):]\n",
        "                break\n",
        "        if not match:\n",
        "            raise SyntaxError(f'Неизвестный символ: {code[0]}')\n",
        "    return tokens"
      ]
    },
    {
      "cell_type": "code",
      "source": [
        "class Parser:\n",
        "    def __init__(self, tokens):\n",
        "        self.tokens = tokens\n",
        "        self.current_token = None\n",
        "        self.token_index = -1\n",
        "        self.next_token()\n",
        "\n",
        "    def next_token(self):\n",
        "        self.token_index += 1\n",
        "        if self.token_index < len(self.tokens):\n",
        "            self.current_token = self.tokens[self.token_index]\n",
        "        else:\n",
        "            self.current_token = None\n",
        "\n",
        "    def parse(self):\n",
        "        return self.E()\n",
        "\n",
        "    def E(self):\n",
        "        node = self.T()\n",
        "        while self.current_token and self.current_token[0] in ('PLUS', 'MINUS'):\n",
        "            op = self.current_token\n",
        "            self.next_token()\n",
        "            node = (op, node, self.T())\n",
        "        return node\n",
        "\n",
        "    def T(self):\n",
        "        node = self.F()\n",
        "        while self.current_token and self.current_token[0] in ('TIMES', 'DIVIDE'):\n",
        "            op = self.current_token\n",
        "            self.next_token()\n",
        "            node = (op, node, self.F())\n",
        "        return node\n",
        "\n",
        "    def F(self):\n",
        "        if self.current_token[0] == 'LPAREN':\n",
        "            self.next_token()\n",
        "            node = self.E()\n",
        "            self.next_token()\n",
        "            return node\n",
        "        elif self.current_token[0] == 'ID':\n",
        "            node = self.current_token\n",
        "            self.next_token()\n",
        "            return node\n",
        "        elif self.current_token[0] == 'NUMBER':\n",
        "            node = self.current_token\n",
        "            self.next_token()\n",
        "            return node\n",
        "        elif self.current_token[0] in ('TRUE', 'FALSE'):\n",
        "            node = self.current_token\n",
        "            self.next_token()\n",
        "            return node\n",
        "        raise SyntaxError('Ожидался фактор')\n",
        "\n",
        "def main():\n",
        "    code = \"a + b * 3 - true\"\n",
        "    tokens = tokenize(code)\n",
        "    parser = Parser(tokens)\n",
        "    parse_tree = parser.parse()\n",
        "    print('Разобранное выражение:', parse_tree)\n",
        "\n",
        "if __name__ == \"__main__\":\n",
        "    main()"
      ],
      "metadata": {
        "colab": {
          "base_uri": "https://localhost:8080/"
        },
        "id": "zCL3sUnWFzVy",
        "outputId": "1bf40600-0fff-4d09-cd26-ed85c4725893"
      },
      "execution_count": 2,
      "outputs": [
        {
          "output_type": "stream",
          "name": "stdout",
          "text": [
            "Разобранное выражение: (('MINUS', '-'), (('PLUS', '+'), ('ID', 'a'), (('TIMES', '*'), ('ID', 'b'), ('NUMBER', '3'))), ('ID', 'true'))\n"
          ]
        }
      ]
    }
  ]
}